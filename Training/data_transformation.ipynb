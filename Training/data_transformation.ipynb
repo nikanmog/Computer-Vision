{
 "cells": [
  {
   "cell_type": "markdown",
   "metadata": {},
   "source": [
    "# Data Transformation Pipeline\n",
    "\n",
    "**Before** running the code complete the following steps:\n",
    "1. Download the wider face Training and Validation datasets from  [here](http://shuoyang1213.me/WIDERFACE/)\n",
    "2. Unzip the datasets\n",
    "3. Download the Pascal VOC annotations for the dataset from [here](https://github.com/akofman/wider-face-pascal-voc-annotations)\n",
    "4. Create the following folder structure:\n",
    "```bash\n",
    "└───images\n",
    "│   ├──train\n",
    "│   ├──────[All WIDER train Annotation Files].xml\n",
    "│   └──────[All WIDER train Image Folders]\n",
    "│   ├──test\n",
    "│   ├──────[All WIDER val Annotation Files].xml\n",
    "│   └──────[All WIDER val Image Folders]\n",
    "├───data_transformation.ipynb\n",
    "```\n"
   ]
  },
  {
   "cell_type": "markdown",
   "metadata": {},
   "source": [
    "# Run this script once to copy all nested images to toplevel folder:"
   ]
  },
  {
   "cell_type": "code",
   "execution_count": 9,
   "metadata": {},
   "outputs": [],
   "source": [
    "import glob\n",
    "import shutil\n",
    "import os\n",
    "src_dir = \"images/train/images\"\n",
    "dst_dir = \"images/train/\"\n",
    "for jpgfile in glob.iglob(os.path.join(src_dir, \"**\", \"*.jpg\")):\n",
    "    shutil.move(jpgfile, dst_dir) \n",
    "src_dir = \"images/test/images\"\n",
    "dst_dir = \"images/test/\"\n",
    "for jpgfile in glob.iglob(os.path.join(src_dir, \"**\", \"*.jpg\")):\n",
    "    shutil.move(jpgfile, dst_dir) \n",
    "    \n",
    "src_dir = \"images/train/images/annotations\"\n",
    "dst_dir = \"images/train/\"\n",
    "for xmlfile in glob.iglob(os.path.join(src_dir, \"**\", \"*.xml\")):\n",
    "    shutil.move(xmlfile, dst_dir) \n",
    "src_dir = \"images/test/images/annotations\"\n",
    "dst_dir = \"images/test/\"\n",
    "for xmlfile in glob.iglob(os.path.join(src_dir, \"**\", \"*.xml\")):\n",
    "    shutil.move(xmlfile, dst_dir) \n"
   ]
  },
  {
   "cell_type": "markdown",
   "metadata": {},
   "source": [
    "Now your directory structure should look like this:\n",
    "```bash\n",
    "└───images\n",
    "│   ├──train\n",
    "│   ├──────[All WIDER train Annotation Files].xml\n",
    "│   ├──────[All WIDER train Image Files].jpg\n",
    "│   ├──test\n",
    "│   ├──────[All WIDER val Annotation Files].xml\n",
    "│   ├──────[All WIDER val Image Files].jpg\n",
    "├───data_transformation.ipynb\n",
    "```"
   ]
  },
  {
   "cell_type": "markdown",
   "metadata": {},
   "source": [
    "# Create CSV Files from your XML annotations:"
   ]
  },
  {
   "cell_type": "code",
   "execution_count": 10,
   "metadata": {},
   "outputs": [
    {
     "name": "stdout",
     "output_type": "stream",
     "text": [
      "Successfully converted xml to csv.\n",
      "Successfully converted xml to csv.\n"
     ]
    }
   ],
   "source": [
    "#https://github.com/datitran/raccoon_dataset\n",
    "import os\n",
    "import glob\n",
    "import pandas as pd\n",
    "import xml.etree.ElementTree as ET\n",
    "\n",
    "\n",
    "def xml_to_csv(path):\n",
    "    xml_list = []\n",
    "    for xml_file in glob.glob(path + '/*.xml'):\n",
    "        tree = ET.parse(xml_file)\n",
    "        root = tree.getroot()\n",
    "        for member in root.findall('object'):\n",
    "            value = (root.find('filename').text,\n",
    "                     int(root.find('size')[0].text),\n",
    "                     int(root.find('size')[1].text),\n",
    "                     member[0].text,\n",
    "                     int(member[4][0].text),\n",
    "                     int(member[4][1].text),\n",
    "                     int(member[4][2].text),\n",
    "                     int(member[4][3].text)\n",
    "                     )\n",
    "            xml_list.append(value)\n",
    "    column_name = ['filename', 'width', 'height', 'class', 'xmin', 'ymin', 'xmax', 'ymax']\n",
    "    xml_df = pd.DataFrame(xml_list, columns=column_name)\n",
    "    return xml_df\n",
    "\n",
    "\n",
    "def main():\n",
    "    for folder in ['train','test']:\n",
    "        image_path = os.path.join(os.getcwd(), ('images/' + folder))\n",
    "        xml_df = xml_to_csv(image_path)\n",
    "        xml_df.to_csv(('images/' + folder + '_labels_all.csv'), index=None)\n",
    "        print('Successfully converted xml to csv.')\n",
    "\n",
    "\n",
    "main()\n"
   ]
  },
  {
   "cell_type": "markdown",
   "metadata": {},
   "source": [
    "1. Open the CSV Files in excel\n",
    "2. Remove all images with small faces (<20px in any direction) in Power Query\n",
    "3. Export to CSV (note that the file needs to be comma separated instead of semicolon)"
   ]
  },
  {
   "cell_type": "markdown",
   "metadata": {},
   "source": [
    "# Note\n",
    "The following files are needed for export, please also note the filenames\n",
    "```bash\n",
    "└───images\n",
    "│   ├──train\n",
    "│   ├──────[All WIDER train Annotation Files].xml\n",
    "│   ├──────[All WIDER train Image Files].jpg\n",
    "│   ├──train_labels.csv\n",
    "│   ├──test\n",
    "│   ├──────[All WIDER val Annotation Files].xml\n",
    "│   ├──────[All WIDER val Image Files].jpg\n",
    "│   ├──test_labels.csv\n",
    "├───data_transformation.ipynb\n",
    "```"
   ]
  },
  {
   "cell_type": "markdown",
   "metadata": {},
   "source": [
    "# Let python copy only valid images to C:/tensorflow1/models/research/object_detection/images:"
   ]
  },
  {
   "cell_type": "code",
   "execution_count": 17,
   "metadata": {},
   "outputs": [],
   "source": [
    "import csv\n",
    "import glob\n",
    "import shutil\n",
    "import os\n",
    "\n",
    "src_dir = \"images/train/\"\n",
    "dst_dir = \"C:/tensorflow1/models/research/object_detection/images/train\"\n",
    "\n",
    "with open('images/train_labels.csv', newline='') as csvfile:\n",
    "    spamreader = csv.reader(csvfile, delimiter=',', quotechar='|')\n",
    "    count = 0\n",
    "    for row in spamreader:       \n",
    "        if count != 0:\n",
    "            shutil.copy(os.path.join(src_dir,row[0]), dst_dir) \n",
    "        count = 1\n",
    "\n",
    "src_dir = \"images/test/\"\n",
    "dst_dir = \"C:/tensorflow1/models/research/object_detection/images/test\"\n",
    "\n",
    "with open('images/test_labels.csv', newline='') as csvfile:\n",
    "    spamreader = csv.reader(csvfile, delimiter=',', quotechar='|')\n",
    "    count = 0\n",
    "    for row in spamreader:       \n",
    "        if count != 0:\n",
    "            shutil.copy(os.path.join(src_dir,row[0]), dst_dir) \n",
    "        count = 1\n"
   ]
  },
  {
   "cell_type": "markdown",
   "metadata": {},
   "source": [
    "# Last Step\n",
    "Copy the test/train label csv files to C:/tensorflow1/models/research/object_detection/images/"
   ]
  }
 ],
 "metadata": {
  "kernelspec": {
   "display_name": "Python 3",
   "language": "python",
   "name": "python3"
  },
  "language_info": {
   "codemirror_mode": {
    "name": "ipython",
    "version": 3
   },
   "file_extension": ".py",
   "mimetype": "text/x-python",
   "name": "python",
   "nbconvert_exporter": "python",
   "pygments_lexer": "ipython3",
   "version": "3.7.3"
  },
  "pycharm": {
   "stem_cell": {
    "cell_type": "raw",
    "source": [],
    "metadata": {
     "collapsed": false
    }
   }
  }
 },
 "nbformat": 4,
 "nbformat_minor": 2
}